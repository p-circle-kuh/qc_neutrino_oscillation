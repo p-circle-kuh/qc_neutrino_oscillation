{
 "cells": [
  {
   "cell_type": "markdown",
   "id": "730fab66",
   "metadata": {},
   "source": [
    "## Quantum circuit computations of 2-flavor neutrino oscillation : P($\\nu_e \\rightarrow \\nu_e$)"
   ]
  },
  {
   "cell_type": "code",
   "execution_count": 1,
   "id": "10ce4aa0",
   "metadata": {},
   "outputs": [],
   "source": [
    "from qiskit import IBMQ\n",
    "from qiskit import QuantumCircuit, transpile, BasicAer, Aer, execute, QuantumRegister, ClassicalRegister\n",
    "from qiskit.tools.jupyter import *\n",
    "from qiskit.visualization import *\n",
    "#from ibm_quantum_widgets import *\n",
    "\n",
    "import numpy as np\n",
    "import matplotlib.pyplot as plt\n",
    "from IPython.display import clear_output\n",
    "%matplotlib inline"
   ]
  },
  {
   "cell_type": "code",
   "execution_count": null,
   "id": "c609744c",
   "metadata": {},
   "outputs": [],
   "source": [
    "# Set your token to 'API_TOKEN' \n",
    "# Run this cell only once\n",
    "IBMQ.save_account('API_TOKEN')"
   ]
  },
  {
   "cell_type": "code",
   "execution_count": 2,
   "id": "ccdb473a",
   "metadata": {},
   "outputs": [],
   "source": [
    "# Loading your IBMQ account(s)\n",
    "provider = IBMQ.load_account()\n",
    "clear_output()"
   ]
  },
  {
   "cell_type": "code",
   "execution_count": 3,
   "id": "650eac4b",
   "metadata": {},
   "outputs": [],
   "source": [
    "provider.backends()\n",
    "clear_output()"
   ]
  },
  {
   "cell_type": "code",
   "execution_count": 4,
   "id": "b9032057",
   "metadata": {},
   "outputs": [
    {
     "name": "stdout",
     "output_type": "stream",
     "text": [
      "Least busy backend: ibmq_athens\n"
     ]
    }
   ],
   "source": [
    "from qiskit.providers.ibmq import least_busy\n",
    "# Select least busy backend\n",
    "backend_lb = least_busy(provider.backends(simulator=False, operational=True))\n",
    "print(\"Least busy backend:\", backend_lb)"
   ]
  },
  {
   "cell_type": "code",
   "execution_count": 5,
   "id": "bccb4078",
   "metadata": {},
   "outputs": [],
   "source": [
    "# Generate quantum register\n",
    "q = QuantumRegister(1)\n",
    "# Generate classical register\n",
    "c = ClassicalRegister(1)"
   ]
  },
  {
   "cell_type": "code",
   "execution_count": 6,
   "id": "fe41b3e1",
   "metadata": {},
   "outputs": [],
   "source": [
    "# Set parameters\n",
    "# Difference of mass squared between m1 & m2(from NuFIT)\n",
    "delta_m_12 = 7.42e-5\n",
    "# Dirac constant(from CODATA)\n",
    "h_bar = 4.135667696e-15/(2*np.pi)\n",
    "# Theta_12(from NuFIT)\n",
    "theta_12 = 33.44 / 360 * 2 * np.pi\n",
    "# Energy of neutrino\n",
    "Energy = np.array([2,2.25,2.5,2.75,3,3.25,3.5,3.75,4,4.5,5,5.5,6,8,10])*1e6\n",
    "# Time (L=180[km], c=3e5[km/sec])\n",
    "t = 180 / 3.0e5\n",
    "# Phi\n",
    "phi_array = (delta_m_12*t)/(2*Energy*h_bar)"
   ]
  },
  {
   "cell_type": "code",
   "execution_count": 7,
   "id": "8d46eeae",
   "metadata": {},
   "outputs": [],
   "source": [
    "def two_flavor_neutrino_oscillation_quantum_circuit(phi):\n",
    "    # Generate quantum circuit\n",
    "    qc = QuantumCircuit(q,c)\n",
    "    qc.u(theta_12*2,0,0,q)\n",
    "    qc.u(0,0,phi,q)\n",
    "    qc.u(-theta_12*2,0,0,q)\n",
    "    qc.measure(q,c)\n",
    "    return qc"
   ]
  },
  {
   "cell_type": "code",
   "execution_count": 8,
   "id": "850f3f82",
   "metadata": {},
   "outputs": [],
   "source": [
    "# Quantum circuit computation on classical simulator\n",
    "result_list_simulation = []\n",
    "phi_list = []\n",
    "energy_list = []\n",
    "backend = BasicAer.get_backend(\"qasm_simulator\")\n",
    "for phi in phi_array:\n",
    "    qc = two_flavor_neutrino_oscillation_quantum_circuit(phi)\n",
    "    job = execute(qc, backend, shots=4096)\n",
    "    result = job.result().get_counts(qc)\n",
    "    phi_list.append(phi)\n",
    "    energy_list.append((delta_m_12*t)/(2*phi*h_bar))\n",
    "    result_list_simulation.append(result['0']/4096)\n",
    "clear_output()"
   ]
  },
  {
   "cell_type": "code",
   "execution_count": 16,
   "id": "42e260d6",
   "metadata": {},
   "outputs": [],
   "source": [
    "# Quantum circuit computation on quantum computer(IBMQ)\n",
    "result_list_actual = []\n",
    "phi_list_actual = []\n",
    "energy_list_actual = []\n",
    "backend = backend_lb\n",
    "for phi in phi_array:\n",
    "    qc = two_flavor_neutrino_oscillation_quantum_circuit(phi)\n",
    "    job = execute(qc, backend, shots=4096)\n",
    "    result = job.result().get_counts(qc)\n",
    "    phi_list_actual.append(phi)\n",
    "    energy_list_actual.append((delta_m_12*t)/(2*phi*h_bar))\n",
    "    result_list_actual.append(result['0']/4096)\n",
    "clear_output()"
   ]
  },
  {
   "cell_type": "code",
   "execution_count": 17,
   "id": "57c60d34",
   "metadata": {},
   "outputs": [
    {
     "data": {
      "image/png": "[encoded data removed]",
      "text/plain": [
       "<Figure size 432x432 with 1 Axes>"
      ]
     },
     "metadata": {
      "needs_background": "light"
     },
     "output_type": "display_data"
    }
   ],
   "source": [
    "# Plot graph\n",
    "fig = plt.figure(figsize=(6,6))\n",
    "ax = fig.add_subplot(111)\n",
    "ax.scatter(Energy,result_list_simulation,label=\"QC simulation\")\n",
    "ax.scatter(Energy,result_list_actual,label=\"QC computer\")\n",
    "ax.set_xlabel(\"Energy[Mev]\",fontsize=13)\n",
    "ax.set_ylabel(r\"Two Flavor P($\\nu$e->$\\nu$e)\",fontsize=13)\n",
    "ax.set_xticks([2e6,4e6,6e6,8e6,10e6,12e6])\n",
    "ax.set_xticklabels([\"2\",\"4\",\"6\",\"8\",\"10\",\"12\"],fontsize=13)\n",
    "ax.legend(loc=\"best\",fontsize=13)\n",
    "ax.tick_params(labelsize=13)"
   ]
  },
  {
   "cell_type": "code",
   "execution_count": 19,
   "id": "8dfbc11c",
   "metadata": {},
   "outputs": [
    {
     "data": {
      "text/html": [
       "<div>\n",
       "<style scoped>\n",
       "    .dataframe tbody tr th:only-of-type {\n",
       "        vertical-align: middle;\n",
       "    }\n",
       "\n",
       "    .dataframe tbody tr th {\n",
       "        vertical-align: top;\n",
       "    }\n",
       "\n",
       "    .dataframe thead th {\n",
       "        text-align: right;\n",
       "    }\n",
       "</style>\n",
       "<table border=\"1\" class=\"dataframe\">\n",
       "  <thead>\n",
       "    <tr style=\"text-align: right;\">\n",
       "      <th></th>\n",
       "      <th>energy</th>\n",
       "      <th>QC_machine_result</th>\n",
       "      <th>QC_simulation_result</th>\n",
       "    </tr>\n",
       "  </thead>\n",
       "  <tbody>\n",
       "    <tr>\n",
       "      <th>0</th>\n",
       "      <td>2000000.0</td>\n",
       "      <td>0.463867</td>\n",
       "      <td>0.434570</td>\n",
       "    </tr>\n",
       "    <tr>\n",
       "      <th>1</th>\n",
       "      <td>2250000.0</td>\n",
       "      <td>0.321777</td>\n",
       "      <td>0.246582</td>\n",
       "    </tr>\n",
       "    <tr>\n",
       "      <th>2</th>\n",
       "      <td>2500000.0</td>\n",
       "      <td>0.840088</td>\n",
       "      <td>0.822998</td>\n",
       "    </tr>\n",
       "    <tr>\n",
       "      <th>3</th>\n",
       "      <td>2750000.0</td>\n",
       "      <td>0.975098</td>\n",
       "      <td>0.981934</td>\n",
       "    </tr>\n",
       "    <tr>\n",
       "      <th>4</th>\n",
       "      <td>3000000.0</td>\n",
       "      <td>0.709717</td>\n",
       "      <td>0.691650</td>\n",
       "    </tr>\n",
       "    <tr>\n",
       "      <th>5</th>\n",
       "      <td>3250000.0</td>\n",
       "      <td>0.378662</td>\n",
       "      <td>0.344971</td>\n",
       "    </tr>\n",
       "    <tr>\n",
       "      <th>6</th>\n",
       "      <td>3500000.0</td>\n",
       "      <td>0.237061</td>\n",
       "      <td>0.166504</td>\n",
       "    </tr>\n",
       "    <tr>\n",
       "      <th>7</th>\n",
       "      <td>3750000.0</td>\n",
       "      <td>0.261475</td>\n",
       "      <td>0.185059</td>\n",
       "    </tr>\n",
       "    <tr>\n",
       "      <th>8</th>\n",
       "      <td>4000000.0</td>\n",
       "      <td>0.406250</td>\n",
       "      <td>0.327148</td>\n",
       "    </tr>\n",
       "    <tr>\n",
       "      <th>9</th>\n",
       "      <td>4500000.0</td>\n",
       "      <td>0.752930</td>\n",
       "      <td>0.725586</td>\n",
       "    </tr>\n",
       "    <tr>\n",
       "      <th>10</th>\n",
       "      <td>5000000.0</td>\n",
       "      <td>0.955811</td>\n",
       "      <td>0.945312</td>\n",
       "    </tr>\n",
       "    <tr>\n",
       "      <th>11</th>\n",
       "      <td>5500000.0</td>\n",
       "      <td>0.981934</td>\n",
       "      <td>0.997314</td>\n",
       "    </tr>\n",
       "    <tr>\n",
       "      <th>12</th>\n",
       "      <td>6000000.0</td>\n",
       "      <td>0.912354</td>\n",
       "      <td>0.916992</td>\n",
       "    </tr>\n",
       "    <tr>\n",
       "      <th>13</th>\n",
       "      <td>8000000.0</td>\n",
       "      <td>0.434814</td>\n",
       "      <td>0.389404</td>\n",
       "    </tr>\n",
       "    <tr>\n",
       "      <th>14</th>\n",
       "      <td>10000000.0</td>\n",
       "      <td>0.238525</td>\n",
       "      <td>0.175781</td>\n",
       "    </tr>\n",
       "  </tbody>\n",
       "</table>\n",
       "</div>"
      ],
      "text/plain": [
       "        energy  QC_machine_result  QC_simulation_result\n",
       "0    2000000.0           0.463867              0.434570\n",
       "1    2250000.0           0.321777              0.246582\n",
       "2    2500000.0           0.840088              0.822998\n",
       "3    2750000.0           0.975098              0.981934\n",
       "4    3000000.0           0.709717              0.691650\n",
       "5    3250000.0           0.378662              0.344971\n",
       "6    3500000.0           0.237061              0.166504\n",
       "7    3750000.0           0.261475              0.185059\n",
       "8    4000000.0           0.406250              0.327148\n",
       "9    4500000.0           0.752930              0.725586\n",
       "10   5000000.0           0.955811              0.945312\n",
       "11   5500000.0           0.981934              0.997314\n",
       "12   6000000.0           0.912354              0.916992\n",
       "13   8000000.0           0.434814              0.389404\n",
       "14  10000000.0           0.238525              0.175781"
      ]
     },
     "execution_count": 19,
     "metadata": {},
     "output_type": "execute_result"
    }
   ],
   "source": [
    "import pandas as pd\n",
    "# Summarize results from qunatum circiut computations\n",
    "calculation_result_df = pd.DataFrame({\"energy\":energy_list_actual, \n",
    "                                      \"QC_machine_result\":result_list_actual,\n",
    "                                      \"QC_simulation_result\":result_list_simulation})\n",
    "calculation_result_df"
   ]
  }
 ],
 "metadata": {
  "kernelspec": {
   "display_name": "Python 3",
   "language": "python",
   "name": "python3"
  },
  "language_info": {
   "codemirror_mode": {
    "name": "ipython",
    "version": 3
   },
   "file_extension": ".py",
   "mimetype": "text/x-python",
   "name": "python",
   "nbconvert_exporter": "python",
   "pygments_lexer": "ipython3",
   "version": "3.8.5"
  }
 },
 "nbformat": 4,
 "nbformat_minor": 5
}
